{
  "nbformat": 4,
  "nbformat_minor": 0,
  "metadata": {
    "colab": {
      "provenance": [],
      "collapsed_sections": [
        "DRuMDC4i4Ov5",
        "uqHCdi-szTMs",
        "SK2pU1A_zMva",
        "4OQPZU6jzmGt",
        "jqV8PYQ94u1v",
        "Ew3lBdHT4ID9"
      ]
    },
    "kernelspec": {
      "name": "python3",
      "display_name": "Python 3"
    },
    "language_info": {
      "name": "python"
    },
    "accelerator": "GPU",
    "gpuClass": "standard"
  },
  "cells": [
    {
      "cell_type": "markdown",
      "source": [
        "# Importing Libraries and Data\n"
      ],
      "metadata": {
        "id": "DRuMDC4i4Ov5"
      }
    },
    {
      "cell_type": "code",
      "execution_count": null,
      "metadata": {
        "id": "pqR1JvGhtYLx"
      },
      "outputs": [],
      "source": [
        "import numpy as np\n",
        "import pandas as pd\n",
        "import matplotlib.pyplot as plt\n",
        "import seaborn as sns\n",
        "from sklearn.model_selection import train_test_split\n",
        "from sklearn.preprocessing import LabelEncoder\n",
        "from sklearn.preprocessing import StandardScaler\n",
        "import warnings\n",
        "warnings.filterwarnings('ignore')\n",
        "from sklearn.ensemble import RandomForestClassifier\n",
        "from sklearn.metrics import accuracy_score\n",
        "from sklearn import svm\n",
        "from sklearn.linear_model import LogisticRegression\n",
        "from sklearn.linear_model import Lasso"
      ]
    },
    {
      "cell_type": "code",
      "source": [
        "df = pd.read_csv('/content/Data_Science_Internship - Dump.csv')"
      ],
      "metadata": {
        "id": "HvbIPKBMvwh8"
      },
      "execution_count": null,
      "outputs": []
    },
    {
      "cell_type": "code",
      "source": [
        "df.info()"
      ],
      "metadata": {
        "colab": {
          "base_uri": "https://localhost:8080/"
        },
        "id": "_NbC9f678pKs",
        "outputId": "6601b8de-a0d4-4714-e9ed-ed1314826704"
      },
      "execution_count": null,
      "outputs": [
        {
          "output_type": "stream",
          "name": "stdout",
          "text": [
            "<class 'pandas.core.frame.DataFrame'>\n",
            "RangeIndex: 3209 entries, 0 to 3208\n",
            "Data columns (total 16 columns):\n",
            " #   Column          Non-Null Count  Dtype \n",
            "---  ------          --------------  ----- \n",
            " 0   Unnamed: 0      3209 non-null   int64 \n",
            " 1   Agent_id        3209 non-null   object\n",
            " 2   status          3209 non-null   object\n",
            " 3   lost_reason     2987 non-null   object\n",
            " 4   budget          2869 non-null   object\n",
            " 5   lease           3022 non-null   object\n",
            " 6   movein          1933 non-null   object\n",
            " 7   source          3209 non-null   object\n",
            " 8   source_city     3209 non-null   object\n",
            " 9   source_country  3209 non-null   object\n",
            " 10  utm_source      3209 non-null   object\n",
            " 11  utm_medium      3209 non-null   object\n",
            " 12  des_city        3209 non-null   object\n",
            " 13  des_country     3208 non-null   object\n",
            " 14  room_type       1447 non-null   object\n",
            " 15  lead_id         3208 non-null   object\n",
            "dtypes: int64(1), object(15)\n",
            "memory usage: 401.2+ KB\n"
          ]
        }
      ]
    },
    {
      "cell_type": "markdown",
      "source": [
        "# Data Cleaning\n",
        "\n"
      ],
      "metadata": {
        "id": "uqHCdi-szTMs"
      }
    },
    {
      "cell_type": "markdown",
      "source": [
        "Removing the non-significant columns"
      ],
      "metadata": {
        "id": "sM6zX3dwx8kp"
      }
    },
    {
      "cell_type": "code",
      "source": [
        "df = df.drop(columns = ['Unnamed: 0', 'lost_reason','movein', 'lead_id'], axis = 1)"
      ],
      "metadata": {
        "id": "nIDmVJbswXdV"
      },
      "execution_count": null,
      "outputs": []
    },
    {
      "cell_type": "markdown",
      "source": [
        "Dropping Room Type column as well because almost 50% value are null"
      ],
      "metadata": {
        "id": "2-h8y1muzyzQ"
      }
    },
    {
      "cell_type": "code",
      "source": [
        "df = df.drop(columns = ['room_type'], axis = 1)"
      ],
      "metadata": {
        "id": "Qwmi-kcqz72B"
      },
      "execution_count": null,
      "outputs": []
    },
    {
      "cell_type": "markdown",
      "source": [
        "Dropping Nan rows of Budget and Lease column"
      ],
      "metadata": {
        "id": "lycm0RFD0epF"
      }
    },
    {
      "cell_type": "code",
      "source": [
        "df = df.dropna()"
      ],
      "metadata": {
        "id": "_tEA3Q9O0WK9"
      },
      "execution_count": null,
      "outputs": []
    },
    {
      "cell_type": "code",
      "source": [
        "import re"
      ],
      "metadata": {
        "id": "VMGEl0AWJki_"
      },
      "execution_count": null,
      "outputs": []
    },
    {
      "cell_type": "markdown",
      "source": [
        "Replacing values like £121 - £180 Per Week with the average of lower and higher limits.\n",
        "\n"
      ],
      "metadata": {
        "id": "cBUFY6IDMemT"
      }
    },
    {
      "cell_type": "code",
      "source": [
        "pattern = r'^£\\d+ - £\\d+ Per \\w+eek$'\n",
        "matches = df['budget'].str.match(pattern)\n",
        "repattern = r'^£(\\d+) - £(\\d+) Per \\w+eek$'\n",
        "\n",
        "for i in range(len(df)):\n",
        "  if matches.iloc[i]:\n",
        "\n",
        "    match = re.match(repattern, df.budget.iloc[i])\n",
        "    lower = int(match.group(1))\n",
        "    upper = int(match.group(2))\n",
        "\n",
        "    df.budget.iloc[i] = (lower + upper) / 2"
      ],
      "metadata": {
        "id": "y518USc0DFQ7"
      },
      "execution_count": null,
      "outputs": []
    },
    {
      "cell_type": "markdown",
      "source": [
        "Replacing values like 0-0 with 0."
      ],
      "metadata": {
        "id": "mDKkhKO-Mpyh"
      }
    },
    {
      "cell_type": "code",
      "source": [
        "df['budget']= df.budget.replace(to_replace = '0-0', value = 0)"
      ],
      "metadata": {
        "id": "x_jV1_BPLcLz"
      },
      "execution_count": null,
      "outputs": []
    },
    {
      "cell_type": "markdown",
      "source": [
        "Replacing values like > 300£ Per Week with 300."
      ],
      "metadata": {
        "id": "rlFn6AsLM4uT"
      }
    },
    {
      "cell_type": "code",
      "source": [
        "df['budget']= df.budget.replace(to_replace = '> 300£ Per Week', value = 300)"
      ],
      "metadata": {
        "id": "3-jcpb69MZv-"
      },
      "execution_count": null,
      "outputs": []
    },
    {
      "cell_type": "markdown",
      "source": [
        "Replacing values like 0-100 with the average of lower and higher limits.\n",
        "\n"
      ],
      "metadata": {
        "id": "HCWiEIGGRhie"
      }
    },
    {
      "cell_type": "code",
      "source": [
        "pattern = r'^\\d+-\\d+$'\n",
        "matches = df['budget'].astype(str).str.match(pattern)\n",
        "\n",
        "for i in range(len(df)):\n",
        "  if matches.iloc[i]:\n",
        "\n",
        "    lower, upper = map(int, re.split('-', str(df.budget.iloc[i])))\n",
        "\n",
        "    df.budget.iloc[i] = (lower + upper) / 2"
      ],
      "metadata": {
        "id": "8wOuxNViReC6"
      },
      "execution_count": null,
      "outputs": []
    },
    {
      "cell_type": "markdown",
      "source": [
        "Removing abnormal Budget Data with very small reappearance\n",
        "  "
      ],
      "metadata": {
        "id": "-yYqMt9NfGVr"
      }
    },
    {
      "cell_type": "code",
      "source": [
        "pattern = r'^\\d+(\\.\\d)?$'\n",
        "matches = df['budget'].astype(str).str.match(pattern)\n",
        "matches"
      ],
      "metadata": {
        "colab": {
          "base_uri": "https://localhost:8080/"
        },
        "id": "OFXBxZaWG6IB",
        "outputId": "be1ba9dd-59d0-4005-aa26-fd5cf54be5ef"
      },
      "execution_count": null,
      "outputs": [
        {
          "output_type": "execute_result",
          "data": {
            "text/plain": [
              "2       True\n",
              "3       True\n",
              "5       True\n",
              "6       True\n",
              "7       True\n",
              "        ... \n",
              "3203    True\n",
              "3204    True\n",
              "3205    True\n",
              "3206    True\n",
              "3207    True\n",
              "Name: budget, Length: 2864, dtype: bool"
            ]
          },
          "metadata": {},
          "execution_count": 12
        }
      ]
    },
    {
      "cell_type": "code",
      "source": [
        "df = df.loc[matches]"
      ],
      "metadata": {
        "id": "8it0crpIa8nA"
      },
      "execution_count": null,
      "outputs": []
    },
    {
      "cell_type": "markdown",
      "source": [
        "Removing Options other than Won and Lost from status column"
      ],
      "metadata": {
        "id": "JrgHHp0Mf0H2"
      }
    },
    {
      "cell_type": "code",
      "source": [
        "df['status'].value_counts()"
      ],
      "metadata": {
        "colab": {
          "base_uri": "https://localhost:8080/"
        },
        "id": "r4DfHmsDwX-U",
        "outputId": "b590ca81-5185-453a-f916-f13affd013b4"
      },
      "execution_count": null,
      "outputs": [
        {
          "output_type": "execute_result",
          "data": {
            "text/plain": [
              "LOST           2522\n",
              "WON             189\n",
              "OPPORTUNITY      14\n",
              "CONTACTED         1\n",
              "Name: status, dtype: int64"
            ]
          },
          "metadata": {},
          "execution_count": 14
        }
      ]
    },
    {
      "cell_type": "code",
      "source": [
        "df = df[df['status'].isin(['LOST', 'WON'])]"
      ],
      "metadata": {
        "id": "TPVxGr9if7Ik"
      },
      "execution_count": null,
      "outputs": []
    },
    {
      "cell_type": "markdown",
      "source": [
        "Encoding the status column -\n",
        "\n",
        "WON = 1\n",
        "LOST = 0"
      ],
      "metadata": {
        "id": "0SGnomAZnkmc"
      }
    },
    {
      "cell_type": "code",
      "source": [
        "df['status']= df.status.replace(to_replace = 'WON', value = 1)\n",
        "df['status']= df.status.replace(to_replace = 'LOST', value = 0)"
      ],
      "metadata": {
        "id": "0lN5Pks4nqYa"
      },
      "execution_count": null,
      "outputs": []
    },
    {
      "cell_type": "code",
      "source": [
        "df.lease.value_counts()"
      ],
      "metadata": {
        "colab": {
          "base_uri": "https://localhost:8080/"
        },
        "id": "m9vomAjq0WD_",
        "outputId": "ebd67f1f-cfca-4c34-eacb-e404c49b5b9c"
      },
      "execution_count": null,
      "outputs": [
        {
          "output_type": "execute_result",
          "data": {
            "text/plain": [
              "Full Year Course Stay 40 - 44 weeks           625\n",
              "Complete Education Year Stay 50 - 52 weeks    433\n",
              "0                                             330\n",
              "51                                            250\n",
              "Semester Stay 20 - 24 weeks                   195\n",
              "                                             ... \n",
              "2 years                                         1\n",
              "10                                              1\n",
              "2 weeks                                         1\n",
              "short stay                                      1\n",
              "44 WEEKS                                        1\n",
              "Name: lease, Length: 81, dtype: int64"
            ]
          },
          "metadata": {},
          "execution_count": 17
        }
      ]
    },
    {
      "cell_type": "markdown",
      "source": [
        "Cleaning the data of lease column"
      ],
      "metadata": {
        "id": "CEgK1opNjLwJ"
      }
    },
    {
      "cell_type": "code",
      "source": [
        "df['lease']= df.lease.replace(to_replace = 'Full Year Course Stay 40 - 44 weeks', value = 42)\n",
        "df['lease']= df.lease.replace(to_replace = 'Complete Education Year Stay 50 - 52 weeks', value = 51)\n",
        "df['lease']= df.lease.replace(to_replace = 'Semester Stay 20 - 24 weeks', value = 22)\n",
        "df['lease']= df.lease.replace(to_replace = 'Summer/Short Stay 8 - 12 weeks', value = 10)\n",
        "df['lease']= df.lease.replace(to_replace = 'semester-stay', value = 22)\n",
        "df['lease']= df.lease.replace(to_replace = 'short-stay', value = 10)\n",
        "df['lease']= df.lease.replace(to_replace = '51 weeks', value = 51)\n",
        "df['lease']= df.lease.replace(to_replace = '44 weeks', value = 44)\n",
        "df['lease']= df.lease.replace(to_replace = '24-36', value = 30)\n",
        "df['lease']= df.lease.replace(to_replace = 'full year stay', value = 53)\n",
        "df['lease']= df.lease.replace(to_replace = '12-24', value = 18)\n",
        "df['lease']= df.lease.replace(to_replace = '1 year', value = 53)\n",
        "df['lease']= df.lease.replace(to_replace = '<=8', value = 8)\n",
        "df['lease']= df.lease.replace(to_replace = '40 - 44 weeks', value = 42)"
      ],
      "metadata": {
        "id": "VMOWkSIojKgh"
      },
      "execution_count": null,
      "outputs": []
    },
    {
      "cell_type": "markdown",
      "source": [
        "Dropping Rows in lease column like other, full course stay and lease because duration for these is unknown"
      ],
      "metadata": {
        "id": "05Ep2ER4lO-b"
      }
    },
    {
      "cell_type": "code",
      "source": [
        "df = df[~df['lease'].isin(['lease', 'full-course-stay','Other','other','0'])]"
      ],
      "metadata": {
        "id": "TDYCon-YlNSs"
      },
      "execution_count": null,
      "outputs": []
    },
    {
      "cell_type": "markdown",
      "source": [
        "Removing abnormal data from lease column"
      ],
      "metadata": {
        "id": "DbmkpusYm_9c"
      }
    },
    {
      "cell_type": "code",
      "source": [
        "pattern = r'^\\d+(\\.\\d)?$'\n",
        "matches = df['lease'].astype(str).str.match(pattern)\n",
        "matches"
      ],
      "metadata": {
        "colab": {
          "base_uri": "https://localhost:8080/"
        },
        "id": "X034-T7vnDyT",
        "outputId": "c83f608a-6063-4762-d484-62d8a7b93862"
      },
      "execution_count": null,
      "outputs": [
        {
          "output_type": "execute_result",
          "data": {
            "text/plain": [
              "2       True\n",
              "5       True\n",
              "7       True\n",
              "8       True\n",
              "9       True\n",
              "        ... \n",
              "3202    True\n",
              "3203    True\n",
              "3204    True\n",
              "3206    True\n",
              "3207    True\n",
              "Name: lease, Length: 2092, dtype: bool"
            ]
          },
          "metadata": {},
          "execution_count": 20
        }
      ]
    },
    {
      "cell_type": "code",
      "source": [
        "df = df.loc[matches]"
      ],
      "metadata": {
        "id": "EUJiHLO4jKdD"
      },
      "execution_count": null,
      "outputs": []
    },
    {
      "cell_type": "markdown",
      "source": [
        "Converting Status, lease and budget column to int from str"
      ],
      "metadata": {
        "id": "maGsJz8HoWUp"
      }
    },
    {
      "cell_type": "code",
      "source": [
        "df['budget'] = df['budget'].astype(float)\n",
        "df['lease'] = df['lease'].astype(float)\n",
        "df['status'] = df['status'].astype(int)"
      ],
      "metadata": {
        "id": "Va7An3TxjKMf"
      },
      "execution_count": null,
      "outputs": []
    },
    {
      "cell_type": "markdown",
      "source": [
        "Removing the value = '9b2d5b4678781e53038e91ea5324530a03f27dc1d0e5f6c9bc9d493a23be9de0'\n",
        "\n",
        "from different columns"
      ],
      "metadata": {
        "id": "V5ropuL9oybZ"
      }
    },
    {
      "cell_type": "code",
      "source": [
        "df = df.replace('9b2d5b4678781e53038e91ea5324530a03f27dc1d0e5f6c9bc9d493a23be9de0', pd.NaT)"
      ],
      "metadata": {
        "id": "mFV1Ext_ox-w"
      },
      "execution_count": null,
      "outputs": []
    },
    {
      "cell_type": "code",
      "source": [
        "df = df.dropna()"
      ],
      "metadata": {
        "id": "AM7Z6OAJrq9q"
      },
      "execution_count": null,
      "outputs": []
    },
    {
      "cell_type": "code",
      "source": [
        "df"
      ],
      "metadata": {
        "id": "_Qx3qixQ5Gjs",
        "outputId": "263565a5-d904-40cf-ccd2-d2cfbac21d21",
        "colab": {
          "base_uri": "https://localhost:8080/",
          "height": 487
        }
      },
      "execution_count": null,
      "outputs": [
        {
          "output_type": "execute_result",
          "data": {
            "text/plain": [
              "                                               Agent_id  status  budget  \\\n",
              "2     c213697430c006013012dd2aca82dd9732aa0a1a6bca13...       0   150.5   \n",
              "5     2306878a9ad9b57686cd623dd285aaa9b25afdf627f651...       0   120.0   \n",
              "7     44864c96fa1c36602f0d045b268981b6cab638a60fc207...       0   210.5   \n",
              "8     ab6bb4584e9946b135dca2e39d12abba3ea82d5ea927d0...       0   100.0   \n",
              "9     131127203c89e8219dbdfe2f597538759310f40918b222...       0   270.0   \n",
              "...                                                 ...     ...     ...   \n",
              "3202  2fca346db656187102ce806ac732e06a62df0dbb2829e5...       0   280.0   \n",
              "3203  a04f132c7c93df8b0d896a5334fd89ad933ea7747ff70c...       0   300.0   \n",
              "3204  9ab9b659a836589f715b72165b0d32cad846412e62851c...       0    90.0   \n",
              "3206  f1ece3b02f1e5989bb0918e468fbc3f3e60d74ed90809d...       0    90.0   \n",
              "3207  c213697430c006013012dd2aca82dd9732aa0a1a6bca13...       0   150.5   \n",
              "\n",
              "      lease                                             source  \\\n",
              "2      42.0  7aae3e886e89fc1187a5c47d6cea1c22998ee610ade1f2...   \n",
              "5      22.0  7bcfca0e9d73371699b0adbf1c691e02108fa64f02f4db...   \n",
              "7      51.0  7aae3e886e89fc1187a5c47d6cea1c22998ee610ade1f2...   \n",
              "8      22.0  869105a4ce02fc56897c8d7e1eb37736b95e3e826568ae...   \n",
              "9      51.0  9ba9134a91cfc6b52ac8d480e9ad37896ca4ac216e2d79...   \n",
              "...     ...                                                ...   \n",
              "3202   51.0  9ba9134a91cfc6b52ac8d480e9ad37896ca4ac216e2d79...   \n",
              "3203   42.0  7aae3e886e89fc1187a5c47d6cea1c22998ee610ade1f2...   \n",
              "3204   51.0  7aae3e886e89fc1187a5c47d6cea1c22998ee610ade1f2...   \n",
              "3206   42.0  7aae3e886e89fc1187a5c47d6cea1c22998ee610ade1f2...   \n",
              "3207   51.0  7aae3e886e89fc1187a5c47d6cea1c22998ee610ade1f2...   \n",
              "\n",
              "                                            source_city  \\\n",
              "2     9b8cc3c63cdf447e463c11544924bf027945cbd29675f7...   \n",
              "5     7b7f15f9ffbeb905caaee265ac39d267d0512ab5333f2f...   \n",
              "7     8593b9db65212160979d946950601c26622a219c80f1f1...   \n",
              "8     4fa64bd55d5c0c1f83015952b4b9500cb099dd0b1b0464...   \n",
              "9     39ae78ec341cd996f93df88fa4729284d087ccd4491308...   \n",
              "...                                                 ...   \n",
              "3202  592e27e27927b8563b68af3bd4ee584077fe640d182dde...   \n",
              "3203  0c11e50e335b9ab8eb52d444d5f1e1a47fa096594883c1...   \n",
              "3204  b384863fa1f6e091164b74219726eee0b9dd47776b91a4...   \n",
              "3206  ecc0e7dc084f141b29479058967d0bc07dee25d9690a98...   \n",
              "3207  f4a95c80f4c35feff42a9f3830c6bfca4c0ea7bd43c648...   \n",
              "\n",
              "                                         source_country  \\\n",
              "2     e09e10e67812e9d236ad900e5d46b4308fc62f5d69446a...   \n",
              "5     8da82000ef9c4468ba47362a924b895e40662fed846942...   \n",
              "7     e09e10e67812e9d236ad900e5d46b4308fc62f5d69446a...   \n",
              "8     8da82000ef9c4468ba47362a924b895e40662fed846942...   \n",
              "9     dfaa6c4bc17102b34903db6d3b2e666f4c50be11c7ee6e...   \n",
              "...                                                 ...   \n",
              "3202  f782d1dbfba17a52a417972d81ef55a8bc60090f4bfbcc...   \n",
              "3203  e09e10e67812e9d236ad900e5d46b4308fc62f5d69446a...   \n",
              "3204  e39b0c5e88f19053d3a917669bc9d60729f351e064ca0c...   \n",
              "3206  e09e10e67812e9d236ad900e5d46b4308fc62f5d69446a...   \n",
              "3207  e09e10e67812e9d236ad900e5d46b4308fc62f5d69446a...   \n",
              "\n",
              "                                             utm_source  \\\n",
              "2     bbdefa2950f49882f295b1285d4fa9dec45fc4144bfb07...   \n",
              "5     bbdefa2950f49882f295b1285d4fa9dec45fc4144bfb07...   \n",
              "7     bbdefa2950f49882f295b1285d4fa9dec45fc4144bfb07...   \n",
              "8     bbdefa2950f49882f295b1285d4fa9dec45fc4144bfb07...   \n",
              "9     bbdefa2950f49882f295b1285d4fa9dec45fc4144bfb07...   \n",
              "...                                                 ...   \n",
              "3202  bbdefa2950f49882f295b1285d4fa9dec45fc4144bfb07...   \n",
              "3203  bbdefa2950f49882f295b1285d4fa9dec45fc4144bfb07...   \n",
              "3204  bbdefa2950f49882f295b1285d4fa9dec45fc4144bfb07...   \n",
              "3206  bbdefa2950f49882f295b1285d4fa9dec45fc4144bfb07...   \n",
              "3207  bbdefa2950f49882f295b1285d4fa9dec45fc4144bfb07...   \n",
              "\n",
              "                                             utm_medium  \\\n",
              "2     09076eb7665d1fb9389c7c4517fee0b00e43092eb34821...   \n",
              "5     09076eb7665d1fb9389c7c4517fee0b00e43092eb34821...   \n",
              "7     09076eb7665d1fb9389c7c4517fee0b00e43092eb34821...   \n",
              "8     09076eb7665d1fb9389c7c4517fee0b00e43092eb34821...   \n",
              "9     09076eb7665d1fb9389c7c4517fee0b00e43092eb34821...   \n",
              "...                                                 ...   \n",
              "3202  69f81619d0ef92cbb165a44e76f4f0c284d2aa83c318fa...   \n",
              "3203  09076eb7665d1fb9389c7c4517fee0b00e43092eb34821...   \n",
              "3204  09076eb7665d1fb9389c7c4517fee0b00e43092eb34821...   \n",
              "3206  09076eb7665d1fb9389c7c4517fee0b00e43092eb34821...   \n",
              "3207  09076eb7665d1fb9389c7c4517fee0b00e43092eb34821...   \n",
              "\n",
              "                                               des_city  \\\n",
              "2     11ab03a1a8c367191355c152f39fe28cae5e426fce49ef...   \n",
              "5     f19d051291d4364989e4e957ef610448af3e05863ee1b8...   \n",
              "7     8593b9db65212160979d946950601c26622a219c80f1f1...   \n",
              "8     5372372f3bf5896820cb2819300c3e681820d82c6efc54...   \n",
              "9     bf5ade33b5b472c3599473a5cb4e5c7037e4c73296b7e9...   \n",
              "...                                                 ...   \n",
              "3202  874523a7284bc49124fd6951e8d2f5825643ce5987161c...   \n",
              "3203  9b8cc3c63cdf447e463c11544924bf027945cbd29675f7...   \n",
              "3204  f9bfb92c288658941063ed2dfc7feca398a9df1623a428...   \n",
              "3206  c384826dfbfce62c3fd99a46984a56fe71546a85c2cb6c...   \n",
              "3207  810c069040f6a9b16fdf976a901755508a87cb0224b169...   \n",
              "\n",
              "                                            des_country  \n",
              "2     8d23a6e37e0a6431a8f1b43a91026dcff51170a89a6512...  \n",
              "5     8d23a6e37e0a6431a8f1b43a91026dcff51170a89a6512...  \n",
              "7     8d23a6e37e0a6431a8f1b43a91026dcff51170a89a6512...  \n",
              "8     8d23a6e37e0a6431a8f1b43a91026dcff51170a89a6512...  \n",
              "9     8d23a6e37e0a6431a8f1b43a91026dcff51170a89a6512...  \n",
              "...                                                 ...  \n",
              "3202  8d23a6e37e0a6431a8f1b43a91026dcff51170a89a6512...  \n",
              "3203  8d23a6e37e0a6431a8f1b43a91026dcff51170a89a6512...  \n",
              "3204  8d23a6e37e0a6431a8f1b43a91026dcff51170a89a6512...  \n",
              "3206  8d23a6e37e0a6431a8f1b43a91026dcff51170a89a6512...  \n",
              "3207  8d23a6e37e0a6431a8f1b43a91026dcff51170a89a6512...  \n",
              "\n",
              "[1622 rows x 11 columns]"
            ],
            "text/html": [
              "\n",
              "  <div id=\"df-756c354a-9139-40c6-bd67-512284d1bb07\">\n",
              "    <div class=\"colab-df-container\">\n",
              "      <div>\n",
              "<style scoped>\n",
              "    .dataframe tbody tr th:only-of-type {\n",
              "        vertical-align: middle;\n",
              "    }\n",
              "\n",
              "    .dataframe tbody tr th {\n",
              "        vertical-align: top;\n",
              "    }\n",
              "\n",
              "    .dataframe thead th {\n",
              "        text-align: right;\n",
              "    }\n",
              "</style>\n",
              "<table border=\"1\" class=\"dataframe\">\n",
              "  <thead>\n",
              "    <tr style=\"text-align: right;\">\n",
              "      <th></th>\n",
              "      <th>Agent_id</th>\n",
              "      <th>status</th>\n",
              "      <th>budget</th>\n",
              "      <th>lease</th>\n",
              "      <th>source</th>\n",
              "      <th>source_city</th>\n",
              "      <th>source_country</th>\n",
              "      <th>utm_source</th>\n",
              "      <th>utm_medium</th>\n",
              "      <th>des_city</th>\n",
              "      <th>des_country</th>\n",
              "    </tr>\n",
              "  </thead>\n",
              "  <tbody>\n",
              "    <tr>\n",
              "      <th>2</th>\n",
              "      <td>c213697430c006013012dd2aca82dd9732aa0a1a6bca13...</td>\n",
              "      <td>0</td>\n",
              "      <td>150.5</td>\n",
              "      <td>42.0</td>\n",
              "      <td>7aae3e886e89fc1187a5c47d6cea1c22998ee610ade1f2...</td>\n",
              "      <td>9b8cc3c63cdf447e463c11544924bf027945cbd29675f7...</td>\n",
              "      <td>e09e10e67812e9d236ad900e5d46b4308fc62f5d69446a...</td>\n",
              "      <td>bbdefa2950f49882f295b1285d4fa9dec45fc4144bfb07...</td>\n",
              "      <td>09076eb7665d1fb9389c7c4517fee0b00e43092eb34821...</td>\n",
              "      <td>11ab03a1a8c367191355c152f39fe28cae5e426fce49ef...</td>\n",
              "      <td>8d23a6e37e0a6431a8f1b43a91026dcff51170a89a6512...</td>\n",
              "    </tr>\n",
              "    <tr>\n",
              "      <th>5</th>\n",
              "      <td>2306878a9ad9b57686cd623dd285aaa9b25afdf627f651...</td>\n",
              "      <td>0</td>\n",
              "      <td>120.0</td>\n",
              "      <td>22.0</td>\n",
              "      <td>7bcfca0e9d73371699b0adbf1c691e02108fa64f02f4db...</td>\n",
              "      <td>7b7f15f9ffbeb905caaee265ac39d267d0512ab5333f2f...</td>\n",
              "      <td>8da82000ef9c4468ba47362a924b895e40662fed846942...</td>\n",
              "      <td>bbdefa2950f49882f295b1285d4fa9dec45fc4144bfb07...</td>\n",
              "      <td>09076eb7665d1fb9389c7c4517fee0b00e43092eb34821...</td>\n",
              "      <td>f19d051291d4364989e4e957ef610448af3e05863ee1b8...</td>\n",
              "      <td>8d23a6e37e0a6431a8f1b43a91026dcff51170a89a6512...</td>\n",
              "    </tr>\n",
              "    <tr>\n",
              "      <th>7</th>\n",
              "      <td>44864c96fa1c36602f0d045b268981b6cab638a60fc207...</td>\n",
              "      <td>0</td>\n",
              "      <td>210.5</td>\n",
              "      <td>51.0</td>\n",
              "      <td>7aae3e886e89fc1187a5c47d6cea1c22998ee610ade1f2...</td>\n",
              "      <td>8593b9db65212160979d946950601c26622a219c80f1f1...</td>\n",
              "      <td>e09e10e67812e9d236ad900e5d46b4308fc62f5d69446a...</td>\n",
              "      <td>bbdefa2950f49882f295b1285d4fa9dec45fc4144bfb07...</td>\n",
              "      <td>09076eb7665d1fb9389c7c4517fee0b00e43092eb34821...</td>\n",
              "      <td>8593b9db65212160979d946950601c26622a219c80f1f1...</td>\n",
              "      <td>8d23a6e37e0a6431a8f1b43a91026dcff51170a89a6512...</td>\n",
              "    </tr>\n",
              "    <tr>\n",
              "      <th>8</th>\n",
              "      <td>ab6bb4584e9946b135dca2e39d12abba3ea82d5ea927d0...</td>\n",
              "      <td>0</td>\n",
              "      <td>100.0</td>\n",
              "      <td>22.0</td>\n",
              "      <td>869105a4ce02fc56897c8d7e1eb37736b95e3e826568ae...</td>\n",
              "      <td>4fa64bd55d5c0c1f83015952b4b9500cb099dd0b1b0464...</td>\n",
              "      <td>8da82000ef9c4468ba47362a924b895e40662fed846942...</td>\n",
              "      <td>bbdefa2950f49882f295b1285d4fa9dec45fc4144bfb07...</td>\n",
              "      <td>09076eb7665d1fb9389c7c4517fee0b00e43092eb34821...</td>\n",
              "      <td>5372372f3bf5896820cb2819300c3e681820d82c6efc54...</td>\n",
              "      <td>8d23a6e37e0a6431a8f1b43a91026dcff51170a89a6512...</td>\n",
              "    </tr>\n",
              "    <tr>\n",
              "      <th>9</th>\n",
              "      <td>131127203c89e8219dbdfe2f597538759310f40918b222...</td>\n",
              "      <td>0</td>\n",
              "      <td>270.0</td>\n",
              "      <td>51.0</td>\n",
              "      <td>9ba9134a91cfc6b52ac8d480e9ad37896ca4ac216e2d79...</td>\n",
              "      <td>39ae78ec341cd996f93df88fa4729284d087ccd4491308...</td>\n",
              "      <td>dfaa6c4bc17102b34903db6d3b2e666f4c50be11c7ee6e...</td>\n",
              "      <td>bbdefa2950f49882f295b1285d4fa9dec45fc4144bfb07...</td>\n",
              "      <td>09076eb7665d1fb9389c7c4517fee0b00e43092eb34821...</td>\n",
              "      <td>bf5ade33b5b472c3599473a5cb4e5c7037e4c73296b7e9...</td>\n",
              "      <td>8d23a6e37e0a6431a8f1b43a91026dcff51170a89a6512...</td>\n",
              "    </tr>\n",
              "    <tr>\n",
              "      <th>...</th>\n",
              "      <td>...</td>\n",
              "      <td>...</td>\n",
              "      <td>...</td>\n",
              "      <td>...</td>\n",
              "      <td>...</td>\n",
              "      <td>...</td>\n",
              "      <td>...</td>\n",
              "      <td>...</td>\n",
              "      <td>...</td>\n",
              "      <td>...</td>\n",
              "      <td>...</td>\n",
              "    </tr>\n",
              "    <tr>\n",
              "      <th>3202</th>\n",
              "      <td>2fca346db656187102ce806ac732e06a62df0dbb2829e5...</td>\n",
              "      <td>0</td>\n",
              "      <td>280.0</td>\n",
              "      <td>51.0</td>\n",
              "      <td>9ba9134a91cfc6b52ac8d480e9ad37896ca4ac216e2d79...</td>\n",
              "      <td>592e27e27927b8563b68af3bd4ee584077fe640d182dde...</td>\n",
              "      <td>f782d1dbfba17a52a417972d81ef55a8bc60090f4bfbcc...</td>\n",
              "      <td>bbdefa2950f49882f295b1285d4fa9dec45fc4144bfb07...</td>\n",
              "      <td>69f81619d0ef92cbb165a44e76f4f0c284d2aa83c318fa...</td>\n",
              "      <td>874523a7284bc49124fd6951e8d2f5825643ce5987161c...</td>\n",
              "      <td>8d23a6e37e0a6431a8f1b43a91026dcff51170a89a6512...</td>\n",
              "    </tr>\n",
              "    <tr>\n",
              "      <th>3203</th>\n",
              "      <td>a04f132c7c93df8b0d896a5334fd89ad933ea7747ff70c...</td>\n",
              "      <td>0</td>\n",
              "      <td>300.0</td>\n",
              "      <td>42.0</td>\n",
              "      <td>7aae3e886e89fc1187a5c47d6cea1c22998ee610ade1f2...</td>\n",
              "      <td>0c11e50e335b9ab8eb52d444d5f1e1a47fa096594883c1...</td>\n",
              "      <td>e09e10e67812e9d236ad900e5d46b4308fc62f5d69446a...</td>\n",
              "      <td>bbdefa2950f49882f295b1285d4fa9dec45fc4144bfb07...</td>\n",
              "      <td>09076eb7665d1fb9389c7c4517fee0b00e43092eb34821...</td>\n",
              "      <td>9b8cc3c63cdf447e463c11544924bf027945cbd29675f7...</td>\n",
              "      <td>8d23a6e37e0a6431a8f1b43a91026dcff51170a89a6512...</td>\n",
              "    </tr>\n",
              "    <tr>\n",
              "      <th>3204</th>\n",
              "      <td>9ab9b659a836589f715b72165b0d32cad846412e62851c...</td>\n",
              "      <td>0</td>\n",
              "      <td>90.0</td>\n",
              "      <td>51.0</td>\n",
              "      <td>7aae3e886e89fc1187a5c47d6cea1c22998ee610ade1f2...</td>\n",
              "      <td>b384863fa1f6e091164b74219726eee0b9dd47776b91a4...</td>\n",
              "      <td>e39b0c5e88f19053d3a917669bc9d60729f351e064ca0c...</td>\n",
              "      <td>bbdefa2950f49882f295b1285d4fa9dec45fc4144bfb07...</td>\n",
              "      <td>09076eb7665d1fb9389c7c4517fee0b00e43092eb34821...</td>\n",
              "      <td>f9bfb92c288658941063ed2dfc7feca398a9df1623a428...</td>\n",
              "      <td>8d23a6e37e0a6431a8f1b43a91026dcff51170a89a6512...</td>\n",
              "    </tr>\n",
              "    <tr>\n",
              "      <th>3206</th>\n",
              "      <td>f1ece3b02f1e5989bb0918e468fbc3f3e60d74ed90809d...</td>\n",
              "      <td>0</td>\n",
              "      <td>90.0</td>\n",
              "      <td>42.0</td>\n",
              "      <td>7aae3e886e89fc1187a5c47d6cea1c22998ee610ade1f2...</td>\n",
              "      <td>ecc0e7dc084f141b29479058967d0bc07dee25d9690a98...</td>\n",
              "      <td>e09e10e67812e9d236ad900e5d46b4308fc62f5d69446a...</td>\n",
              "      <td>bbdefa2950f49882f295b1285d4fa9dec45fc4144bfb07...</td>\n",
              "      <td>09076eb7665d1fb9389c7c4517fee0b00e43092eb34821...</td>\n",
              "      <td>c384826dfbfce62c3fd99a46984a56fe71546a85c2cb6c...</td>\n",
              "      <td>8d23a6e37e0a6431a8f1b43a91026dcff51170a89a6512...</td>\n",
              "    </tr>\n",
              "    <tr>\n",
              "      <th>3207</th>\n",
              "      <td>c213697430c006013012dd2aca82dd9732aa0a1a6bca13...</td>\n",
              "      <td>0</td>\n",
              "      <td>150.5</td>\n",
              "      <td>51.0</td>\n",
              "      <td>7aae3e886e89fc1187a5c47d6cea1c22998ee610ade1f2...</td>\n",
              "      <td>f4a95c80f4c35feff42a9f3830c6bfca4c0ea7bd43c648...</td>\n",
              "      <td>e09e10e67812e9d236ad900e5d46b4308fc62f5d69446a...</td>\n",
              "      <td>bbdefa2950f49882f295b1285d4fa9dec45fc4144bfb07...</td>\n",
              "      <td>09076eb7665d1fb9389c7c4517fee0b00e43092eb34821...</td>\n",
              "      <td>810c069040f6a9b16fdf976a901755508a87cb0224b169...</td>\n",
              "      <td>8d23a6e37e0a6431a8f1b43a91026dcff51170a89a6512...</td>\n",
              "    </tr>\n",
              "  </tbody>\n",
              "</table>\n",
              "<p>1622 rows × 11 columns</p>\n",
              "</div>\n",
              "      <button class=\"colab-df-convert\" onclick=\"convertToInteractive('df-756c354a-9139-40c6-bd67-512284d1bb07')\"\n",
              "              title=\"Convert this dataframe to an interactive table.\"\n",
              "              style=\"display:none;\">\n",
              "        \n",
              "  <svg xmlns=\"http://www.w3.org/2000/svg\" height=\"24px\"viewBox=\"0 0 24 24\"\n",
              "       width=\"24px\">\n",
              "    <path d=\"M0 0h24v24H0V0z\" fill=\"none\"/>\n",
              "    <path d=\"M18.56 5.44l.94 2.06.94-2.06 2.06-.94-2.06-.94-.94-2.06-.94 2.06-2.06.94zm-11 1L8.5 8.5l.94-2.06 2.06-.94-2.06-.94L8.5 2.5l-.94 2.06-2.06.94zm10 10l.94 2.06.94-2.06 2.06-.94-2.06-.94-.94-2.06-.94 2.06-2.06.94z\"/><path d=\"M17.41 7.96l-1.37-1.37c-.4-.4-.92-.59-1.43-.59-.52 0-1.04.2-1.43.59L10.3 9.45l-7.72 7.72c-.78.78-.78 2.05 0 2.83L4 21.41c.39.39.9.59 1.41.59.51 0 1.02-.2 1.41-.59l7.78-7.78 2.81-2.81c.8-.78.8-2.07 0-2.86zM5.41 20L4 18.59l7.72-7.72 1.47 1.35L5.41 20z\"/>\n",
              "  </svg>\n",
              "      </button>\n",
              "      \n",
              "  <style>\n",
              "    .colab-df-container {\n",
              "      display:flex;\n",
              "      flex-wrap:wrap;\n",
              "      gap: 12px;\n",
              "    }\n",
              "\n",
              "    .colab-df-convert {\n",
              "      background-color: #E8F0FE;\n",
              "      border: none;\n",
              "      border-radius: 50%;\n",
              "      cursor: pointer;\n",
              "      display: none;\n",
              "      fill: #1967D2;\n",
              "      height: 32px;\n",
              "      padding: 0 0 0 0;\n",
              "      width: 32px;\n",
              "    }\n",
              "\n",
              "    .colab-df-convert:hover {\n",
              "      background-color: #E2EBFA;\n",
              "      box-shadow: 0px 1px 2px rgba(60, 64, 67, 0.3), 0px 1px 3px 1px rgba(60, 64, 67, 0.15);\n",
              "      fill: #174EA6;\n",
              "    }\n",
              "\n",
              "    [theme=dark] .colab-df-convert {\n",
              "      background-color: #3B4455;\n",
              "      fill: #D2E3FC;\n",
              "    }\n",
              "\n",
              "    [theme=dark] .colab-df-convert:hover {\n",
              "      background-color: #434B5C;\n",
              "      box-shadow: 0px 1px 3px 1px rgba(0, 0, 0, 0.15);\n",
              "      filter: drop-shadow(0px 1px 2px rgba(0, 0, 0, 0.3));\n",
              "      fill: #FFFFFF;\n",
              "    }\n",
              "  </style>\n",
              "\n",
              "      <script>\n",
              "        const buttonEl =\n",
              "          document.querySelector('#df-756c354a-9139-40c6-bd67-512284d1bb07 button.colab-df-convert');\n",
              "        buttonEl.style.display =\n",
              "          google.colab.kernel.accessAllowed ? 'block' : 'none';\n",
              "\n",
              "        async function convertToInteractive(key) {\n",
              "          const element = document.querySelector('#df-756c354a-9139-40c6-bd67-512284d1bb07');\n",
              "          const dataTable =\n",
              "            await google.colab.kernel.invokeFunction('convertToInteractive',\n",
              "                                                     [key], {});\n",
              "          if (!dataTable) return;\n",
              "\n",
              "          const docLinkHtml = 'Like what you see? Visit the ' +\n",
              "            '<a target=\"_blank\" href=https://colab.research.google.com/notebooks/data_table.ipynb>data table notebook</a>'\n",
              "            + ' to learn more about interactive tables.';\n",
              "          element.innerHTML = '';\n",
              "          dataTable['output_type'] = 'display_data';\n",
              "          await google.colab.output.renderOutput(dataTable, element);\n",
              "          const docLink = document.createElement('div');\n",
              "          docLink.innerHTML = docLinkHtml;\n",
              "          element.appendChild(docLink);\n",
              "        }\n",
              "      </script>\n",
              "    </div>\n",
              "  </div>\n",
              "  "
            ]
          },
          "metadata": {},
          "execution_count": 25
        }
      ]
    },
    {
      "cell_type": "markdown",
      "source": [
        "# Data Analysis"
      ],
      "metadata": {
        "id": "SK2pU1A_zMva"
      }
    },
    {
      "cell_type": "markdown",
      "source": [
        "Plotting the Heatmap"
      ],
      "metadata": {
        "id": "jbWqM-ynz0Cy"
      }
    },
    {
      "cell_type": "code",
      "source": [
        "correlation = df.corr()\n",
        "plt.figure(figsize = (5,5))\n",
        "sns.heatmap(correlation)"
      ],
      "metadata": {
        "colab": {
          "base_uri": "https://localhost:8080/",
          "height": 469
        },
        "id": "pg27J5bfzr20",
        "outputId": "7859f76d-3a24-4432-e8ac-ad5a2e0a3591"
      },
      "execution_count": null,
      "outputs": [
        {
          "output_type": "execute_result",
          "data": {
            "text/plain": [
              "<Axes: >"
            ]
          },
          "metadata": {},
          "execution_count": 26
        },
        {
          "output_type": "display_data",
          "data": {
            "text/plain": [
              "<Figure size 500x500 with 2 Axes>"
            ],
            "image/png": "[encoded data removed]"
          },
          "metadata": {}
        }
      ]
    },
    {
      "cell_type": "code",
      "source": [
        "plt.figure(figsize = (5,5))\n",
        "plt.title('Distribution Plot of the Budget')\n",
        "sns.distplot(df['budget'])"
      ],
      "metadata": {
        "colab": {
          "base_uri": "https://localhost:8080/",
          "height": 505
        },
        "id": "l-GmMURp0C8O",
        "outputId": "9eb63919-74ed-44fa-d3eb-0deb2a956c69"
      },
      "execution_count": null,
      "outputs": [
        {
          "output_type": "execute_result",
          "data": {
            "text/plain": [
              "<Axes: title={'center': 'Distribution Plot of the Budget'}, xlabel='budget', ylabel='Density'>"
            ]
          },
          "metadata": {},
          "execution_count": 27
        },
        {
          "output_type": "display_data",
          "data": {
            "text/plain": [
              "<Figure size 500x500 with 1 Axes>"
            ],
            "image/png": "[encoded data removed]"
          },
          "metadata": {}
        }
      ]
    },
    {
      "cell_type": "code",
      "source": [
        "plt.figure(figsize = (5,5))\n",
        "plt.title('Distribution Plot of the Lease Period')\n",
        "sns.distplot(df['lease'])"
      ],
      "metadata": {
        "colab": {
          "base_uri": "https://localhost:8080/",
          "height": 505
        },
        "id": "EHataI_l0C5G",
        "outputId": "1c74a7ac-22ab-4f9f-cef7-5a96d64a6752"
      },
      "execution_count": null,
      "outputs": [
        {
          "output_type": "execute_result",
          "data": {
            "text/plain": [
              "<Axes: title={'center': 'Distribution Plot of the Lease Period'}, xlabel='lease', ylabel='Density'>"
            ]
          },
          "metadata": {},
          "execution_count": 28
        },
        {
          "output_type": "display_data",
          "data": {
            "text/plain": [
              "<Figure size 500x500 with 1 Axes>"
            ],
            "image/png": "[encoded data removed]"
          },
          "metadata": {}
        }
      ]
    },
    {
      "cell_type": "markdown",
      "source": [
        "# Label Encoding and solving the class Imbalance problem\n"
      ],
      "metadata": {
        "id": "4OQPZU6jzmGt"
      }
    },
    {
      "cell_type": "markdown",
      "source": [
        "Now encoding all the columns other than status, lease and budget"
      ],
      "metadata": {
        "id": "pI7mAv2cr1sc"
      }
    },
    {
      "cell_type": "code",
      "source": [
        "encoder = LabelEncoder()"
      ],
      "metadata": {
        "id": "fODUOJopr9cI"
      },
      "execution_count": null,
      "outputs": []
    },
    {
      "cell_type": "code",
      "source": [
        "for i in df.columns:\n",
        "  if i not in ['status', 'lease', 'budget']:\n",
        "    df[i] = encoder.fit_transform(df[i])"
      ],
      "metadata": {
        "id": "PAS1QaTesAhK"
      },
      "execution_count": null,
      "outputs": []
    },
    {
      "cell_type": "code",
      "source": [
        "df"
      ],
      "metadata": {
        "colab": {
          "base_uri": "https://localhost:8080/",
          "height": 423
        },
        "id": "D9i3Fu4BiblW",
        "outputId": "0c7c677c-fcc7-4d4c-9a74-c4e15a5d1fc5"
      },
      "execution_count": null,
      "outputs": [
        {
          "output_type": "execute_result",
          "data": {
            "text/plain": [
              "       Agent_id  status  budget  lease  source  source_city  source_country  \\\n",
              "2            76       0   150.5   42.0      44         1975             153   \n",
              "5            13       0   120.0   22.0      45         1583              92   \n",
              "7            25       0   210.5   51.0      44         1716             153   \n",
              "8            67       0   100.0   22.0      49         1011              92   \n",
              "9             5       0   270.0   51.0      57          738             151   \n",
              "...         ...     ...     ...    ...     ...          ...             ...   \n",
              "46598        36       0    90.0   42.0      44         2993             153   \n",
              "46599        99       0    90.0   22.0      44          849             153   \n",
              "46605         4       0   270.5   42.0      44         1600              92   \n",
              "46606        53       0  1108.0  294.0      83         2954             122   \n",
              "46607        12       0   210.5   42.0      44          255             153   \n",
              "\n",
              "       utm_source  utm_medium  des_city  des_country  \n",
              "2              17           2        14            6  \n",
              "5              17           2       162            6  \n",
              "7              17           2        93            6  \n",
              "8              17           2        59            6  \n",
              "9              17           2       128            6  \n",
              "...           ...         ...       ...          ...  \n",
              "46598          17           2        28            6  \n",
              "46599          17           2         4            6  \n",
              "46605          17           2       157            6  \n",
              "46606          13          17       157            6  \n",
              "46607          17           2        70            6  \n",
              "\n",
              "[23212 rows x 11 columns]"
            ],
            "text/html": [
              "\n",
              "  <div id=\"df-6fe085eb-ac81-40bd-8c72-e30986797133\">\n",
              "    <div class=\"colab-df-container\">\n",
              "      <div>\n",
              "<style scoped>\n",
              "    .dataframe tbody tr th:only-of-type {\n",
              "        vertical-align: middle;\n",
              "    }\n",
              "\n",
              "    .dataframe tbody tr th {\n",
              "        vertical-align: top;\n",
              "    }\n",
              "\n",
              "    .dataframe thead th {\n",
              "        text-align: right;\n",
              "    }\n",
              "</style>\n",
              "<table border=\"1\" class=\"dataframe\">\n",
              "  <thead>\n",
              "    <tr style=\"text-align: right;\">\n",
              "      <th></th>\n",
              "      <th>Agent_id</th>\n",
              "      <th>status</th>\n",
              "      <th>budget</th>\n",
              "      <th>lease</th>\n",
              "      <th>source</th>\n",
              "      <th>source_city</th>\n",
              "      <th>source_country</th>\n",
              "      <th>utm_source</th>\n",
              "      <th>utm_medium</th>\n",
              "      <th>des_city</th>\n",
              "      <th>des_country</th>\n",
              "    </tr>\n",
              "  </thead>\n",
              "  <tbody>\n",
              "    <tr>\n",
              "      <th>2</th>\n",
              "      <td>76</td>\n",
              "      <td>0</td>\n",
              "      <td>150.5</td>\n",
              "      <td>42.0</td>\n",
              "      <td>44</td>\n",
              "      <td>1975</td>\n",
              "      <td>153</td>\n",
              "      <td>17</td>\n",
              "      <td>2</td>\n",
              "      <td>14</td>\n",
              "      <td>6</td>\n",
              "    </tr>\n",
              "    <tr>\n",
              "      <th>5</th>\n",
              "      <td>13</td>\n",
              "      <td>0</td>\n",
              "      <td>120.0</td>\n",
              "      <td>22.0</td>\n",
              "      <td>45</td>\n",
              "      <td>1583</td>\n",
              "      <td>92</td>\n",
              "      <td>17</td>\n",
              "      <td>2</td>\n",
              "      <td>162</td>\n",
              "      <td>6</td>\n",
              "    </tr>\n",
              "    <tr>\n",
              "      <th>7</th>\n",
              "      <td>25</td>\n",
              "      <td>0</td>\n",
              "      <td>210.5</td>\n",
              "      <td>51.0</td>\n",
              "      <td>44</td>\n",
              "      <td>1716</td>\n",
              "      <td>153</td>\n",
              "      <td>17</td>\n",
              "      <td>2</td>\n",
              "      <td>93</td>\n",
              "      <td>6</td>\n",
              "    </tr>\n",
              "    <tr>\n",
              "      <th>8</th>\n",
              "      <td>67</td>\n",
              "      <td>0</td>\n",
              "      <td>100.0</td>\n",
              "      <td>22.0</td>\n",
              "      <td>49</td>\n",
              "      <td>1011</td>\n",
              "      <td>92</td>\n",
              "      <td>17</td>\n",
              "      <td>2</td>\n",
              "      <td>59</td>\n",
              "      <td>6</td>\n",
              "    </tr>\n",
              "    <tr>\n",
              "      <th>9</th>\n",
              "      <td>5</td>\n",
              "      <td>0</td>\n",
              "      <td>270.0</td>\n",
              "      <td>51.0</td>\n",
              "      <td>57</td>\n",
              "      <td>738</td>\n",
              "      <td>151</td>\n",
              "      <td>17</td>\n",
              "      <td>2</td>\n",
              "      <td>128</td>\n",
              "      <td>6</td>\n",
              "    </tr>\n",
              "    <tr>\n",
              "      <th>...</th>\n",
              "      <td>...</td>\n",
              "      <td>...</td>\n",
              "      <td>...</td>\n",
              "      <td>...</td>\n",
              "      <td>...</td>\n",
              "      <td>...</td>\n",
              "      <td>...</td>\n",
              "      <td>...</td>\n",
              "      <td>...</td>\n",
              "      <td>...</td>\n",
              "      <td>...</td>\n",
              "    </tr>\n",
              "    <tr>\n",
              "      <th>46598</th>\n",
              "      <td>36</td>\n",
              "      <td>0</td>\n",
              "      <td>90.0</td>\n",
              "      <td>42.0</td>\n",
              "      <td>44</td>\n",
              "      <td>2993</td>\n",
              "      <td>153</td>\n",
              "      <td>17</td>\n",
              "      <td>2</td>\n",
              "      <td>28</td>\n",
              "      <td>6</td>\n",
              "    </tr>\n",
              "    <tr>\n",
              "      <th>46599</th>\n",
              "      <td>99</td>\n",
              "      <td>0</td>\n",
              "      <td>90.0</td>\n",
              "      <td>22.0</td>\n",
              "      <td>44</td>\n",
              "      <td>849</td>\n",
              "      <td>153</td>\n",
              "      <td>17</td>\n",
              "      <td>2</td>\n",
              "      <td>4</td>\n",
              "      <td>6</td>\n",
              "    </tr>\n",
              "    <tr>\n",
              "      <th>46605</th>\n",
              "      <td>4</td>\n",
              "      <td>0</td>\n",
              "      <td>270.5</td>\n",
              "      <td>42.0</td>\n",
              "      <td>44</td>\n",
              "      <td>1600</td>\n",
              "      <td>92</td>\n",
              "      <td>17</td>\n",
              "      <td>2</td>\n",
              "      <td>157</td>\n",
              "      <td>6</td>\n",
              "    </tr>\n",
              "    <tr>\n",
              "      <th>46606</th>\n",
              "      <td>53</td>\n",
              "      <td>0</td>\n",
              "      <td>1108.0</td>\n",
              "      <td>294.0</td>\n",
              "      <td>83</td>\n",
              "      <td>2954</td>\n",
              "      <td>122</td>\n",
              "      <td>13</td>\n",
              "      <td>17</td>\n",
              "      <td>157</td>\n",
              "      <td>6</td>\n",
              "    </tr>\n",
              "    <tr>\n",
              "      <th>46607</th>\n",
              "      <td>12</td>\n",
              "      <td>0</td>\n",
              "      <td>210.5</td>\n",
              "      <td>42.0</td>\n",
              "      <td>44</td>\n",
              "      <td>255</td>\n",
              "      <td>153</td>\n",
              "      <td>17</td>\n",
              "      <td>2</td>\n",
              "      <td>70</td>\n",
              "      <td>6</td>\n",
              "    </tr>\n",
              "  </tbody>\n",
              "</table>\n",
              "<p>23212 rows × 11 columns</p>\n",
              "</div>\n",
              "      <button class=\"colab-df-convert\" onclick=\"convertToInteractive('df-6fe085eb-ac81-40bd-8c72-e30986797133')\"\n",
              "              title=\"Convert this dataframe to an interactive table.\"\n",
              "              style=\"display:none;\">\n",
              "        \n",
              "  <svg xmlns=\"http://www.w3.org/2000/svg\" height=\"24px\"viewBox=\"0 0 24 24\"\n",
              "       width=\"24px\">\n",
              "    <path d=\"M0 0h24v24H0V0z\" fill=\"none\"/>\n",
              "    <path d=\"M18.56 5.44l.94 2.06.94-2.06 2.06-.94-2.06-.94-.94-2.06-.94 2.06-2.06.94zm-11 1L8.5 8.5l.94-2.06 2.06-.94-2.06-.94L8.5 2.5l-.94 2.06-2.06.94zm10 10l.94 2.06.94-2.06 2.06-.94-2.06-.94-.94-2.06-.94 2.06-2.06.94z\"/><path d=\"M17.41 7.96l-1.37-1.37c-.4-.4-.92-.59-1.43-.59-.52 0-1.04.2-1.43.59L10.3 9.45l-7.72 7.72c-.78.78-.78 2.05 0 2.83L4 21.41c.39.39.9.59 1.41.59.51 0 1.02-.2 1.41-.59l7.78-7.78 2.81-2.81c.8-.78.8-2.07 0-2.86zM5.41 20L4 18.59l7.72-7.72 1.47 1.35L5.41 20z\"/>\n",
              "  </svg>\n",
              "      </button>\n",
              "      \n",
              "  <style>\n",
              "    .colab-df-container {\n",
              "      display:flex;\n",
              "      flex-wrap:wrap;\n",
              "      gap: 12px;\n",
              "    }\n",
              "\n",
              "    .colab-df-convert {\n",
              "      background-color: #E8F0FE;\n",
              "      border: none;\n",
              "      border-radius: 50%;\n",
              "      cursor: pointer;\n",
              "      display: none;\n",
              "      fill: #1967D2;\n",
              "      height: 32px;\n",
              "      padding: 0 0 0 0;\n",
              "      width: 32px;\n",
              "    }\n",
              "\n",
              "    .colab-df-convert:hover {\n",
              "      background-color: #E2EBFA;\n",
              "      box-shadow: 0px 1px 2px rgba(60, 64, 67, 0.3), 0px 1px 3px 1px rgba(60, 64, 67, 0.15);\n",
              "      fill: #174EA6;\n",
              "    }\n",
              "\n",
              "    [theme=dark] .colab-df-convert {\n",
              "      background-color: #3B4455;\n",
              "      fill: #D2E3FC;\n",
              "    }\n",
              "\n",
              "    [theme=dark] .colab-df-convert:hover {\n",
              "      background-color: #434B5C;\n",
              "      box-shadow: 0px 1px 3px 1px rgba(0, 0, 0, 0.15);\n",
              "      filter: drop-shadow(0px 1px 2px rgba(0, 0, 0, 0.3));\n",
              "      fill: #FFFFFF;\n",
              "    }\n",
              "  </style>\n",
              "\n",
              "      <script>\n",
              "        const buttonEl =\n",
              "          document.querySelector('#df-6fe085eb-ac81-40bd-8c72-e30986797133 button.colab-df-convert');\n",
              "        buttonEl.style.display =\n",
              "          google.colab.kernel.accessAllowed ? 'block' : 'none';\n",
              "\n",
              "        async function convertToInteractive(key) {\n",
              "          const element = document.querySelector('#df-6fe085eb-ac81-40bd-8c72-e30986797133');\n",
              "          const dataTable =\n",
              "            await google.colab.kernel.invokeFunction('convertToInteractive',\n",
              "                                                     [key], {});\n",
              "          if (!dataTable) return;\n",
              "\n",
              "          const docLinkHtml = 'Like what you see? Visit the ' +\n",
              "            '<a target=\"_blank\" href=https://colab.research.google.com/notebooks/data_table.ipynb>data table notebook</a>'\n",
              "            + ' to learn more about interactive tables.';\n",
              "          element.innerHTML = '';\n",
              "          dataTable['output_type'] = 'display_data';\n",
              "          await google.colab.output.renderOutput(dataTable, element);\n",
              "          const docLink = document.createElement('div');\n",
              "          docLink.innerHTML = docLinkHtml;\n",
              "          element.appendChild(docLink);\n",
              "        }\n",
              "      </script>\n",
              "    </div>\n",
              "  </div>\n",
              "  "
            ]
          },
          "metadata": {},
          "execution_count": 31
        }
      ]
    },
    {
      "cell_type": "markdown",
      "source": [
        "The dataset is highly unbalanced"
      ],
      "metadata": {
        "id": "iqL5gHHz3Pf0"
      }
    },
    {
      "cell_type": "code",
      "source": [
        "df.status.value_counts()"
      ],
      "metadata": {
        "colab": {
          "base_uri": "https://localhost:8080/"
        },
        "id": "Y7yPSFF_hrKs",
        "outputId": "60530613-b4c7-49b1-9bf2-afbc93f82f2a"
      },
      "execution_count": null,
      "outputs": [
        {
          "output_type": "execute_result",
          "data": {
            "text/plain": [
              "0    21365\n",
              "1     1847\n",
              "Name: status, dtype: int64"
            ]
          },
          "metadata": {},
          "execution_count": 32
        }
      ]
    },
    {
      "cell_type": "code",
      "source": [
        "leads_won = df[df.status == 1]\n",
        "leads_loss = df[df.status == 0]"
      ],
      "metadata": {
        "id": "bp66YvRtxwpf"
      },
      "execution_count": null,
      "outputs": []
    },
    {
      "cell_type": "code",
      "source": [
        "leads_loss.shape, leads_won.shape"
      ],
      "metadata": {
        "colab": {
          "base_uri": "https://localhost:8080/"
        },
        "id": "SKu54fPS3cP1",
        "outputId": "d4848abb-5ac2-493b-8d04-94663f510b8d"
      },
      "execution_count": null,
      "outputs": [
        {
          "output_type": "execute_result",
          "data": {
            "text/plain": [
              "((21365, 11), (1847, 11))"
            ]
          },
          "metadata": {},
          "execution_count": 34
        }
      ]
    },
    {
      "cell_type": "code",
      "source": [
        "leads_loss_sample = leads_loss.sample(n = 1847)"
      ],
      "metadata": {
        "id": "a1tCfs0Z3fBn"
      },
      "execution_count": null,
      "outputs": []
    },
    {
      "cell_type": "code",
      "source": [
        "df = pd.concat([leads_won, leads_loss_sample], axis = 0)"
      ],
      "metadata": {
        "id": "JKMo5G-i3zN7"
      },
      "execution_count": null,
      "outputs": []
    },
    {
      "cell_type": "code",
      "source": [
        "df.status.value_counts()"
      ],
      "metadata": {
        "colab": {
          "base_uri": "https://localhost:8080/"
        },
        "id": "UX12fWoR3-R1",
        "outputId": "e38e720b-5a0d-40f3-a79f-7d5a9ed1d558"
      },
      "execution_count": null,
      "outputs": [
        {
          "output_type": "execute_result",
          "data": {
            "text/plain": [
              "1    1847\n",
              "0    1847\n",
              "Name: status, dtype: int64"
            ]
          },
          "metadata": {},
          "execution_count": 37
        }
      ]
    },
    {
      "cell_type": "markdown",
      "source": [
        "# Train Test Split and Standardizing the data"
      ],
      "metadata": {
        "id": "jqV8PYQ94u1v"
      }
    },
    {
      "cell_type": "code",
      "source": [
        "X = df.drop(columns = ['status'], axis = 1)\n",
        "Y  = df['status']"
      ],
      "metadata": {
        "id": "Jxx-QRgM5CjO"
      },
      "execution_count": null,
      "outputs": []
    },
    {
      "cell_type": "code",
      "source": [
        "scaler = StandardScaler()"
      ],
      "metadata": {
        "id": "U8ojgzBN8aI7"
      },
      "execution_count": null,
      "outputs": []
    },
    {
      "cell_type": "code",
      "source": [
        "X = scaler.fit_transform(X)"
      ],
      "metadata": {
        "id": "pi8xrjkF8zVx"
      },
      "execution_count": null,
      "outputs": []
    },
    {
      "cell_type": "code",
      "source": [
        "X_train, X_test, Y_train, Y_test = train_test_split(X, Y, test_size = 0.2, random_state = 2, stratify = Y)"
      ],
      "metadata": {
        "id": "MambWhk54ylD"
      },
      "execution_count": null,
      "outputs": []
    },
    {
      "cell_type": "code",
      "source": [
        "X_train.shape, X_test.shape, Y_train.shape, Y_test.shape"
      ],
      "metadata": {
        "colab": {
          "base_uri": "https://localhost:8080/"
        },
        "id": "c3iB6UkA51zI",
        "outputId": "9b2a4ad9-229e-4395-d0b5-1ad8a10abf39"
      },
      "execution_count": null,
      "outputs": [
        {
          "output_type": "execute_result",
          "data": {
            "text/plain": [
              "((2955, 10), (739, 10), (2955,), (739,))"
            ]
          },
          "metadata": {},
          "execution_count": 42
        }
      ]
    },
    {
      "cell_type": "code",
      "source": [
        "Y_train.value_counts()"
      ],
      "metadata": {
        "colab": {
          "base_uri": "https://localhost:8080/"
        },
        "id": "qXaoEiPs5_Ok",
        "outputId": "4bf24036-3129-4edc-ceb2-1fa7e5c2f623"
      },
      "execution_count": null,
      "outputs": [
        {
          "output_type": "execute_result",
          "data": {
            "text/plain": [
              "1    1478\n",
              "0    1477\n",
              "Name: status, dtype: int64"
            ]
          },
          "metadata": {},
          "execution_count": 43
        }
      ]
    },
    {
      "cell_type": "code",
      "source": [
        "Y_test.value_counts()"
      ],
      "metadata": {
        "colab": {
          "base_uri": "https://localhost:8080/"
        },
        "id": "B2_ossOL6F2j",
        "outputId": "cb00ae00-debf-4bfb-f224-64b1cef9a2d6"
      },
      "execution_count": null,
      "outputs": [
        {
          "output_type": "execute_result",
          "data": {
            "text/plain": [
              "0    370\n",
              "1    369\n",
              "Name: status, dtype: int64"
            ]
          },
          "metadata": {},
          "execution_count": 44
        }
      ]
    },
    {
      "cell_type": "markdown",
      "source": [
        "# Training the model"
      ],
      "metadata": {
        "id": "Ew3lBdHT4ID9"
      }
    },
    {
      "cell_type": "code",
      "source": [
        "model = RandomForestClassifier(n_estimators = 100)"
      ],
      "metadata": {
        "id": "_d_WEJw13-ru"
      },
      "execution_count": null,
      "outputs": []
    },
    {
      "cell_type": "code",
      "source": [
        "model1 = LogisticRegression()"
      ],
      "metadata": {
        "id": "VVd6p5qQ70Ao"
      },
      "execution_count": null,
      "outputs": []
    },
    {
      "cell_type": "code",
      "source": [
        "model2 = svm.SVC(kernel = 'rbf', probability=True)"
      ],
      "metadata": {
        "id": "tzQnZsNP72cY"
      },
      "execution_count": null,
      "outputs": []
    },
    {
      "cell_type": "code",
      "source": [
        "model3 = Lasso()"
      ],
      "metadata": {
        "id": "ASVZhZ-jV8ps"
      },
      "execution_count": null,
      "outputs": []
    },
    {
      "cell_type": "code",
      "source": [
        "from pandas.core.common import random_state\n",
        "#to ensure the repeatability of the code and results and the methodology of execution\n",
        "from sklearn.ensemble import BaggingClassifier\n",
        "from sklearn.ensemble import RandomForestClassifier\n",
        "from sklearn.ensemble import GradientBoostingClassifier\n",
        "\n",
        "from sklearn.ensemble import VotingClassifier\n",
        "clf1=BaggingClassifier(random_state=1)\n",
        "clf2=RandomForestClassifier(random_state=1)\n",
        "clf3=GradientBoostingClassifier(random_state=1)\n",
        "\n",
        "model4=VotingClassifier(estimators=[('bc',clf1),('rf',clf2),('gb',clf3)])"
      ],
      "metadata": {
        "id": "kLzNJ_cqIUDc"
      },
      "execution_count": null,
      "outputs": []
    },
    {
      "cell_type": "code",
      "source": [
        "import xgboost as xgb\n",
        "#from sklearn.metrics import mean_squared_error\n",
        "model5=xgb.XGBClassifier()"
      ],
      "metadata": {
        "id": "ODZkCGdlI3X7"
      },
      "execution_count": null,
      "outputs": []
    },
    {
      "cell_type": "code",
      "source": [
        "from sklearn.tree import DecisionTreeClassifier\n",
        "\n",
        "model5 = DecisionTreeClassifier(criterion='gini',splitter='best')"
      ],
      "metadata": {
        "id": "VUmlOedFJ8g-"
      },
      "execution_count": null,
      "outputs": []
    },
    {
      "cell_type": "code",
      "source": [
        "model2.fit(X_train, Y_train)"
      ],
      "metadata": {
        "colab": {
          "base_uri": "https://localhost:8080/",
          "height": 75
        },
        "id": "oGx88NDE6hf0",
        "outputId": "ac5478e4-ef78-4291-b721-a5f7c27d33b8"
      },
      "execution_count": null,
      "outputs": [
        {
          "output_type": "execute_result",
          "data": {
            "text/plain": [
              "SVC(probability=True)"
            ],
            "text/html": [
              "<style>#sk-container-id-1 {color: black;background-color: white;}#sk-container-id-1 pre{padding: 0;}#sk-container-id-1 div.sk-toggleable {background-color: white;}#sk-container-id-1 label.sk-toggleable__label {cursor: pointer;display: block;width: 100%;margin-bottom: 0;padding: 0.3em;box-sizing: border-box;text-align: center;}#sk-container-id-1 label.sk-toggleable__label-arrow:before {content: \"▸\";float: left;margin-right: 0.25em;color: #696969;}#sk-container-id-1 label.sk-toggleable__label-arrow:hover:before {color: black;}#sk-container-id-1 div.sk-estimator:hover label.sk-toggleable__label-arrow:before {color: black;}#sk-container-id-1 div.sk-toggleable__content {max-height: 0;max-width: 0;overflow: hidden;text-align: left;background-color: #f0f8ff;}#sk-container-id-1 div.sk-toggleable__content pre {margin: 0.2em;color: black;border-radius: 0.25em;background-color: #f0f8ff;}#sk-container-id-1 input.sk-toggleable__control:checked~div.sk-toggleable__content {max-height: 200px;max-width: 100%;overflow: auto;}#sk-container-id-1 input.sk-toggleable__control:checked~label.sk-toggleable__label-arrow:before {content: \"▾\";}#sk-container-id-1 div.sk-estimator input.sk-toggleable__control:checked~label.sk-toggleable__label {background-color: #d4ebff;}#sk-container-id-1 div.sk-label input.sk-toggleable__control:checked~label.sk-toggleable__label {background-color: #d4ebff;}#sk-container-id-1 input.sk-hidden--visually {border: 0;clip: rect(1px 1px 1px 1px);clip: rect(1px, 1px, 1px, 1px);height: 1px;margin: -1px;overflow: hidden;padding: 0;position: absolute;width: 1px;}#sk-container-id-1 div.sk-estimator {font-family: monospace;background-color: #f0f8ff;border: 1px dotted black;border-radius: 0.25em;box-sizing: border-box;margin-bottom: 0.5em;}#sk-container-id-1 div.sk-estimator:hover {background-color: #d4ebff;}#sk-container-id-1 div.sk-parallel-item::after {content: \"\";width: 100%;border-bottom: 1px solid gray;flex-grow: 1;}#sk-container-id-1 div.sk-label:hover label.sk-toggleable__label {background-color: #d4ebff;}#sk-container-id-1 div.sk-serial::before {content: \"\";position: absolute;border-left: 1px solid gray;box-sizing: border-box;top: 0;bottom: 0;left: 50%;z-index: 0;}#sk-container-id-1 div.sk-serial {display: flex;flex-direction: column;align-items: center;background-color: white;padding-right: 0.2em;padding-left: 0.2em;position: relative;}#sk-container-id-1 div.sk-item {position: relative;z-index: 1;}#sk-container-id-1 div.sk-parallel {display: flex;align-items: stretch;justify-content: center;background-color: white;position: relative;}#sk-container-id-1 div.sk-item::before, #sk-container-id-1 div.sk-parallel-item::before {content: \"\";position: absolute;border-left: 1px solid gray;box-sizing: border-box;top: 0;bottom: 0;left: 50%;z-index: -1;}#sk-container-id-1 div.sk-parallel-item {display: flex;flex-direction: column;z-index: 1;position: relative;background-color: white;}#sk-container-id-1 div.sk-parallel-item:first-child::after {align-self: flex-end;width: 50%;}#sk-container-id-1 div.sk-parallel-item:last-child::after {align-self: flex-start;width: 50%;}#sk-container-id-1 div.sk-parallel-item:only-child::after {width: 0;}#sk-container-id-1 div.sk-dashed-wrapped {border: 1px dashed gray;margin: 0 0.4em 0.5em 0.4em;box-sizing: border-box;padding-bottom: 0.4em;background-color: white;}#sk-container-id-1 div.sk-label label {font-family: monospace;font-weight: bold;display: inline-block;line-height: 1.2em;}#sk-container-id-1 div.sk-label-container {text-align: center;}#sk-container-id-1 div.sk-container {/* jupyter's `normalize.less` sets `[hidden] { display: none; }` but bootstrap.min.css set `[hidden] { display: none !important; }` so we also need the `!important` here to be able to override the default hidden behavior on the sphinx rendered scikit-learn.org. See: https://github.com/scikit-learn/scikit-learn/issues/21755 */display: inline-block !important;position: relative;}#sk-container-id-1 div.sk-text-repr-fallback {display: none;}</style><div id=\"sk-container-id-1\" class=\"sk-top-container\"><div class=\"sk-text-repr-fallback\"><pre>SVC(probability=True)</pre><b>In a Jupyter environment, please rerun this cell to show the HTML representation or trust the notebook. <br />On GitHub, the HTML representation is unable to render, please try loading this page with nbviewer.org.</b></div><div class=\"sk-container\" hidden><div class=\"sk-item\"><div class=\"sk-estimator sk-toggleable\"><input class=\"sk-toggleable__control sk-hidden--visually\" id=\"sk-estimator-id-1\" type=\"checkbox\" checked><label for=\"sk-estimator-id-1\" class=\"sk-toggleable__label sk-toggleable__label-arrow\">SVC</label><div class=\"sk-toggleable__content\"><pre>SVC(probability=True)</pre></div></div></div></div></div>"
            ]
          },
          "metadata": {},
          "execution_count": 52
        }
      ]
    },
    {
      "cell_type": "markdown",
      "source": [
        "# Evaluating"
      ],
      "metadata": {
        "id": "SjlKeEZA92pf"
      }
    },
    {
      "cell_type": "markdown",
      "source": [
        "Precision measures how many of the predicted positive instances are actually positive.\n",
        "\n",
        "Recall measures how many of the actual positive instances were predicted correctly.\n",
        "\n",
        "F1-score is the harmonic mean of precision and recall. These metrics are particularly useful for evaluating binary classification models."
      ],
      "metadata": {
        "id": "AQlLiZmWKGps"
      }
    },
    {
      "cell_type": "code",
      "source": [
        "from sklearn.metrics import accuracy_score, precision_score, recall_score, f1_score\n",
        "\n",
        "train_data_prediction = model2.predict(X_train)\n",
        "test_data_prediction = model2.predict(X_test)"
      ],
      "metadata": {
        "id": "mwK3BhvS6oCV"
      },
      "execution_count": null,
      "outputs": []
    },
    {
      "cell_type": "code",
      "source": [
        "# Calculate accuracy\n",
        "train_acc = accuracy_score(Y_train, train_data_prediction)\n",
        "test_acc = accuracy_score(Y_test, test_data_prediction)\n",
        "\n",
        "# Calculate precision\n",
        "train_prec = precision_score(Y_train, train_data_prediction)\n",
        "test_prec = precision_score(Y_test, test_data_prediction)\n",
        "\n",
        "# Calculate recall\n",
        "train_rec = recall_score(Y_train, train_data_prediction)\n",
        "test_rec = recall_score(Y_test, test_data_prediction)\n",
        "\n",
        "# Calculate F1-score\n",
        "train_f1 = f1_score(Y_train, train_data_prediction)\n",
        "test_f1 = f1_score(Y_test, test_data_prediction)"
      ],
      "metadata": {
        "id": "HJXV-u4aAt9i"
      },
      "execution_count": null,
      "outputs": []
    },
    {
      "cell_type": "code",
      "source": [
        "print(\"Training set evaluation:\")\n",
        "print(\"Accuracy: {:.4f}\".format(train_acc))\n",
        "print(\"Precision: {:.4f}\".format(train_prec))\n",
        "print(\"Recall: {:.4f}\".format(train_rec))\n",
        "print(\"F1-score: {:.4f}\".format(train_f1))\n",
        "\n",
        "print(\"\\nTest set evaluation:\")\n",
        "print(\"Accuracy: {:.4f}\".format(test_acc))\n",
        "print(\"Precision: {:.4f}\".format(test_prec))\n",
        "print(\"Recall: {:.4f}\".format(test_rec))\n",
        "print(\"F1-score: {:.4f}\".format(test_f1))"
      ],
      "metadata": {
        "colab": {
          "base_uri": "https://localhost:8080/"
        },
        "id": "MxtKuIpqJxH_",
        "outputId": "3bf42cd0-7364-4e2d-a390-34a29d1ab78a"
      },
      "execution_count": null,
      "outputs": [
        {
          "output_type": "stream",
          "name": "stdout",
          "text": [
            "Training set evaluation:\n",
            "Accuracy: 0.6362\n",
            "Precision: 0.6083\n",
            "Recall: 0.7659\n",
            "F1-score: 0.6780\n",
            "\n",
            "Test set evaluation:\n",
            "Accuracy: 0.6049\n",
            "Precision: 0.5839\n",
            "Recall: 0.7263\n",
            "F1-score: 0.6473\n"
          ]
        }
      ]
    },
    {
      "cell_type": "markdown",
      "source": [
        "# Assigning Scores to the leads\n"
      ],
      "metadata": {
        "id": "bzAZ_ifrKl0P"
      }
    },
    {
      "cell_type": "code",
      "source": [
        "train_pred_proba = model2.predict_proba(X)\n",
        "\n",
        "Probability = []\n",
        "\n",
        "for i in range(len(X)):\n",
        "  Probability.append(train_pred_proba[i][1])"
      ],
      "metadata": {
        "id": "vwtJUeZKKuOr"
      },
      "execution_count": null,
      "outputs": []
    },
    {
      "cell_type": "code",
      "source": [
        "df = df.reset_index()\n",
        "df['Lead_score'] = pd.Series(Probability)*100\n",
        "df = df.sort_values('Lead_score', ascending=False)"
      ],
      "metadata": {
        "id": "Bf21_hyWfYjJ"
      },
      "execution_count": null,
      "outputs": []
    },
    {
      "cell_type": "code",
      "source": [
        "df.head(10)"
      ],
      "metadata": {
        "colab": {
          "base_uri": "https://localhost:8080/",
          "height": 363
        },
        "id": "fl9dsGmTgkuj",
        "outputId": "37bdc48b-f3ef-4d75-8bd9-5c04e3efc675"
      },
      "execution_count": null,
      "outputs": [
        {
          "output_type": "execute_result",
          "data": {
            "text/plain": [
              "      index  Agent_id  status  budget  lease  source  source_city  \\\n",
              "555   16123        75       1   130.0   51.0      68         1184   \n",
              "3631  38535        51       0   123.0   51.0      57         1045   \n",
              "606   17548        88       1    99.0   51.0      57          483   \n",
              "1114  29385        55       1   145.0   51.0      57         2463   \n",
              "875   25344        75       1   150.0   51.0      68         2993   \n",
              "156    4322        45       1   150.0   51.0      57         2989   \n",
              "35     1013        27       1   123.0   51.0      57         3133   \n",
              "627   18097        57       1   155.0   51.0      57         2463   \n",
              "682   19296        67       1   158.0   51.0      57         2605   \n",
              "1794  45456        93       1   154.0   51.0      65         1469   \n",
              "\n",
              "      source_country  utm_source  utm_medium  des_city  des_country  \\\n",
              "555               92          17           2        73            6   \n",
              "3631              84          17           2        81            6   \n",
              "606               92          17           2       122            6   \n",
              "1114             153          17           2        70            6   \n",
              "875              153          17           2        77            6   \n",
              "156              153          17           2        91            6   \n",
              "35               153          17           2        73            6   \n",
              "627              153          17           2        91            6   \n",
              "682              153          17           2        91            6   \n",
              "1794             153          17           2        84            6   \n",
              "\n",
              "      Lead_score  \n",
              "555    73.873905  \n",
              "3631   72.667372  \n",
              "606    72.227997  \n",
              "1114   72.199916  \n",
              "875    71.565967  \n",
              "156    71.425582  \n",
              "35     71.285041  \n",
              "627    71.226217  \n",
              "682    71.020997  \n",
              "1794   70.843048  "
            ],
            "text/html": [
              "\n",
              "  <div id=\"df-dfa04d8f-538e-4f23-801b-270496923112\">\n",
              "    <div class=\"colab-df-container\">\n",
              "      <div>\n",
              "<style scoped>\n",
              "    .dataframe tbody tr th:only-of-type {\n",
              "        vertical-align: middle;\n",
              "    }\n",
              "\n",
              "    .dataframe tbody tr th {\n",
              "        vertical-align: top;\n",
              "    }\n",
              "\n",
              "    .dataframe thead th {\n",
              "        text-align: right;\n",
              "    }\n",
              "</style>\n",
              "<table border=\"1\" class=\"dataframe\">\n",
              "  <thead>\n",
              "    <tr style=\"text-align: right;\">\n",
              "      <th></th>\n",
              "      <th>index</th>\n",
              "      <th>Agent_id</th>\n",
              "      <th>status</th>\n",
              "      <th>budget</th>\n",
              "      <th>lease</th>\n",
              "      <th>source</th>\n",
              "      <th>source_city</th>\n",
              "      <th>source_country</th>\n",
              "      <th>utm_source</th>\n",
              "      <th>utm_medium</th>\n",
              "      <th>des_city</th>\n",
              "      <th>des_country</th>\n",
              "      <th>Lead_score</th>\n",
              "    </tr>\n",
              "  </thead>\n",
              "  <tbody>\n",
              "    <tr>\n",
              "      <th>555</th>\n",
              "      <td>16123</td>\n",
              "      <td>75</td>\n",
              "      <td>1</td>\n",
              "      <td>130.0</td>\n",
              "      <td>51.0</td>\n",
              "      <td>68</td>\n",
              "      <td>1184</td>\n",
              "      <td>92</td>\n",
              "      <td>17</td>\n",
              "      <td>2</td>\n",
              "      <td>73</td>\n",
              "      <td>6</td>\n",
              "      <td>73.873905</td>\n",
              "    </tr>\n",
              "    <tr>\n",
              "      <th>3631</th>\n",
              "      <td>38535</td>\n",
              "      <td>51</td>\n",
              "      <td>0</td>\n",
              "      <td>123.0</td>\n",
              "      <td>51.0</td>\n",
              "      <td>57</td>\n",
              "      <td>1045</td>\n",
              "      <td>84</td>\n",
              "      <td>17</td>\n",
              "      <td>2</td>\n",
              "      <td>81</td>\n",
              "      <td>6</td>\n",
              "      <td>72.667372</td>\n",
              "    </tr>\n",
              "    <tr>\n",
              "      <th>606</th>\n",
              "      <td>17548</td>\n",
              "      <td>88</td>\n",
              "      <td>1</td>\n",
              "      <td>99.0</td>\n",
              "      <td>51.0</td>\n",
              "      <td>57</td>\n",
              "      <td>483</td>\n",
              "      <td>92</td>\n",
              "      <td>17</td>\n",
              "      <td>2</td>\n",
              "      <td>122</td>\n",
              "      <td>6</td>\n",
              "      <td>72.227997</td>\n",
              "    </tr>\n",
              "    <tr>\n",
              "      <th>1114</th>\n",
              "      <td>29385</td>\n",
              "      <td>55</td>\n",
              "      <td>1</td>\n",
              "      <td>145.0</td>\n",
              "      <td>51.0</td>\n",
              "      <td>57</td>\n",
              "      <td>2463</td>\n",
              "      <td>153</td>\n",
              "      <td>17</td>\n",
              "      <td>2</td>\n",
              "      <td>70</td>\n",
              "      <td>6</td>\n",
              "      <td>72.199916</td>\n",
              "    </tr>\n",
              "    <tr>\n",
              "      <th>875</th>\n",
              "      <td>25344</td>\n",
              "      <td>75</td>\n",
              "      <td>1</td>\n",
              "      <td>150.0</td>\n",
              "      <td>51.0</td>\n",
              "      <td>68</td>\n",
              "      <td>2993</td>\n",
              "      <td>153</td>\n",
              "      <td>17</td>\n",
              "      <td>2</td>\n",
              "      <td>77</td>\n",
              "      <td>6</td>\n",
              "      <td>71.565967</td>\n",
              "    </tr>\n",
              "    <tr>\n",
              "      <th>156</th>\n",
              "      <td>4322</td>\n",
              "      <td>45</td>\n",
              "      <td>1</td>\n",
              "      <td>150.0</td>\n",
              "      <td>51.0</td>\n",
              "      <td>57</td>\n",
              "      <td>2989</td>\n",
              "      <td>153</td>\n",
              "      <td>17</td>\n",
              "      <td>2</td>\n",
              "      <td>91</td>\n",
              "      <td>6</td>\n",
              "      <td>71.425582</td>\n",
              "    </tr>\n",
              "    <tr>\n",
              "      <th>35</th>\n",
              "      <td>1013</td>\n",
              "      <td>27</td>\n",
              "      <td>1</td>\n",
              "      <td>123.0</td>\n",
              "      <td>51.0</td>\n",
              "      <td>57</td>\n",
              "      <td>3133</td>\n",
              "      <td>153</td>\n",
              "      <td>17</td>\n",
              "      <td>2</td>\n",
              "      <td>73</td>\n",
              "      <td>6</td>\n",
              "      <td>71.285041</td>\n",
              "    </tr>\n",
              "    <tr>\n",
              "      <th>627</th>\n",
              "      <td>18097</td>\n",
              "      <td>57</td>\n",
              "      <td>1</td>\n",
              "      <td>155.0</td>\n",
              "      <td>51.0</td>\n",
              "      <td>57</td>\n",
              "      <td>2463</td>\n",
              "      <td>153</td>\n",
              "      <td>17</td>\n",
              "      <td>2</td>\n",
              "      <td>91</td>\n",
              "      <td>6</td>\n",
              "      <td>71.226217</td>\n",
              "    </tr>\n",
              "    <tr>\n",
              "      <th>682</th>\n",
              "      <td>19296</td>\n",
              "      <td>67</td>\n",
              "      <td>1</td>\n",
              "      <td>158.0</td>\n",
              "      <td>51.0</td>\n",
              "      <td>57</td>\n",
              "      <td>2605</td>\n",
              "      <td>153</td>\n",
              "      <td>17</td>\n",
              "      <td>2</td>\n",
              "      <td>91</td>\n",
              "      <td>6</td>\n",
              "      <td>71.020997</td>\n",
              "    </tr>\n",
              "    <tr>\n",
              "      <th>1794</th>\n",
              "      <td>45456</td>\n",
              "      <td>93</td>\n",
              "      <td>1</td>\n",
              "      <td>154.0</td>\n",
              "      <td>51.0</td>\n",
              "      <td>65</td>\n",
              "      <td>1469</td>\n",
              "      <td>153</td>\n",
              "      <td>17</td>\n",
              "      <td>2</td>\n",
              "      <td>84</td>\n",
              "      <td>6</td>\n",
              "      <td>70.843048</td>\n",
              "    </tr>\n",
              "  </tbody>\n",
              "</table>\n",
              "</div>\n",
              "      <button class=\"colab-df-convert\" onclick=\"convertToInteractive('df-dfa04d8f-538e-4f23-801b-270496923112')\"\n",
              "              title=\"Convert this dataframe to an interactive table.\"\n",
              "              style=\"display:none;\">\n",
              "        \n",
              "  <svg xmlns=\"http://www.w3.org/2000/svg\" height=\"24px\"viewBox=\"0 0 24 24\"\n",
              "       width=\"24px\">\n",
              "    <path d=\"M0 0h24v24H0V0z\" fill=\"none\"/>\n",
              "    <path d=\"M18.56 5.44l.94 2.06.94-2.06 2.06-.94-2.06-.94-.94-2.06-.94 2.06-2.06.94zm-11 1L8.5 8.5l.94-2.06 2.06-.94-2.06-.94L8.5 2.5l-.94 2.06-2.06.94zm10 10l.94 2.06.94-2.06 2.06-.94-2.06-.94-.94-2.06-.94 2.06-2.06.94z\"/><path d=\"M17.41 7.96l-1.37-1.37c-.4-.4-.92-.59-1.43-.59-.52 0-1.04.2-1.43.59L10.3 9.45l-7.72 7.72c-.78.78-.78 2.05 0 2.83L4 21.41c.39.39.9.59 1.41.59.51 0 1.02-.2 1.41-.59l7.78-7.78 2.81-2.81c.8-.78.8-2.07 0-2.86zM5.41 20L4 18.59l7.72-7.72 1.47 1.35L5.41 20z\"/>\n",
              "  </svg>\n",
              "      </button>\n",
              "      \n",
              "  <style>\n",
              "    .colab-df-container {\n",
              "      display:flex;\n",
              "      flex-wrap:wrap;\n",
              "      gap: 12px;\n",
              "    }\n",
              "\n",
              "    .colab-df-convert {\n",
              "      background-color: #E8F0FE;\n",
              "      border: none;\n",
              "      border-radius: 50%;\n",
              "      cursor: pointer;\n",
              "      display: none;\n",
              "      fill: #1967D2;\n",
              "      height: 32px;\n",
              "      padding: 0 0 0 0;\n",
              "      width: 32px;\n",
              "    }\n",
              "\n",
              "    .colab-df-convert:hover {\n",
              "      background-color: #E2EBFA;\n",
              "      box-shadow: 0px 1px 2px rgba(60, 64, 67, 0.3), 0px 1px 3px 1px rgba(60, 64, 67, 0.15);\n",
              "      fill: #174EA6;\n",
              "    }\n",
              "\n",
              "    [theme=dark] .colab-df-convert {\n",
              "      background-color: #3B4455;\n",
              "      fill: #D2E3FC;\n",
              "    }\n",
              "\n",
              "    [theme=dark] .colab-df-convert:hover {\n",
              "      background-color: #434B5C;\n",
              "      box-shadow: 0px 1px 3px 1px rgba(0, 0, 0, 0.15);\n",
              "      filter: drop-shadow(0px 1px 2px rgba(0, 0, 0, 0.3));\n",
              "      fill: #FFFFFF;\n",
              "    }\n",
              "  </style>\n",
              "\n",
              "      <script>\n",
              "        const buttonEl =\n",
              "          document.querySelector('#df-dfa04d8f-538e-4f23-801b-270496923112 button.colab-df-convert');\n",
              "        buttonEl.style.display =\n",
              "          google.colab.kernel.accessAllowed ? 'block' : 'none';\n",
              "\n",
              "        async function convertToInteractive(key) {\n",
              "          const element = document.querySelector('#df-dfa04d8f-538e-4f23-801b-270496923112');\n",
              "          const dataTable =\n",
              "            await google.colab.kernel.invokeFunction('convertToInteractive',\n",
              "                                                     [key], {});\n",
              "          if (!dataTable) return;\n",
              "\n",
              "          const docLinkHtml = 'Like what you see? Visit the ' +\n",
              "            '<a target=\"_blank\" href=https://colab.research.google.com/notebooks/data_table.ipynb>data table notebook</a>'\n",
              "            + ' to learn more about interactive tables.';\n",
              "          element.innerHTML = '';\n",
              "          dataTable['output_type'] = 'display_data';\n",
              "          await google.colab.output.renderOutput(dataTable, element);\n",
              "          const docLink = document.createElement('div');\n",
              "          docLink.innerHTML = docLinkHtml;\n",
              "          element.appendChild(docLink);\n",
              "        }\n",
              "      </script>\n",
              "    </div>\n",
              "  </div>\n",
              "  "
            ]
          },
          "metadata": {},
          "execution_count": 58
        }
      ]
    },
    {
      "cell_type": "code",
      "source": [
        "plt.grid()\n",
        "plt.title('Distribution Plot of the Lead Score')\n",
        "sns.distplot(df['Lead_score'])"
      ],
      "metadata": {
        "colab": {
          "base_uri": "https://localhost:8080/",
          "height": 490
        },
        "id": "SplZ9AHih4P8",
        "outputId": "ce9afb1e-02e5-4890-a013-f23ec0f73e14"
      },
      "execution_count": null,
      "outputs": [
        {
          "output_type": "execute_result",
          "data": {
            "text/plain": [
              "<Axes: title={'center': 'Distribution Plot of the Lead Score'}, xlabel='Lead_score', ylabel='Density'>"
            ]
          },
          "metadata": {},
          "execution_count": 59
        },
        {
          "output_type": "display_data",
          "data": {
            "text/plain": [
              "<Figure size 640x480 with 1 Axes>"
            ],
            "image/png": "[encoded data removed]"
          },
          "metadata": {}
        }
      ]
    },
    {
      "cell_type": "code",
      "source": [
        "corr = df[['budget', 'lease','Lead_score']].corr()\n",
        "plt.title('Correlation between the Budget, Lease, and Lead Score')\n",
        "sns.heatmap(corr)"
      ],
      "metadata": {
        "colab": {
          "base_uri": "https://localhost:8080/",
          "height": 470
        },
        "id": "2xY7KlEjjgyq",
        "outputId": "a11656ba-f605-49eb-da22-88572c09ec9a"
      },
      "execution_count": null,
      "outputs": [
        {
          "output_type": "execute_result",
          "data": {
            "text/plain": [
              "<Axes: title={'center': 'Correlation between the Budget, Lease, and Lead Score'}>"
            ]
          },
          "metadata": {},
          "execution_count": 60
        },
        {
          "output_type": "display_data",
          "data": {
            "text/plain": [
              "<Figure size 640x480 with 2 Axes>"
            ],
            "image/png": "[encoded data removed]"
          },
          "metadata": {}
        }
      ]
    }
  ]
}